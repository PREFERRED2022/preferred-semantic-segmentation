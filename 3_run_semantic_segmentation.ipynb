{
 "cells": [
  {
   "cell_type": "markdown",
   "id": "broke-peninsula",
   "metadata": {},
   "source": [
    "## SMSG\n",
    "\n",
    "Training a UNet model on our custom tiles dataset.\n",
    "***"
   ]
  },
  {
   "cell_type": "markdown",
   "id": "false-adoption",
   "metadata": {},
   "source": [
    "Import packages"
   ]
  },
  {
   "cell_type": "code",
   "execution_count": null,
   "id": "charged-lebanon",
   "metadata": {
    "scrolled": false
   },
   "outputs": [],
   "source": [
    "import pathlib\n",
    "from ast import literal_eval\n",
    "from typing import Any, Union, Tuple, List, Dict\n",
    "\n",
    "import numpy as np\n",
    "import pandas as pd\n",
    "import matplotlib.pyplot as plt\n",
    "import seaborn as sns\n",
    "import cv2 as cv\n",
    "from sklearn.model_selection import GroupKFold\n",
    "import torch\n",
    "import torch.utils.data as data\n",
    "import torch.nn.functional as F\n",
    "import torch.optim as optim\n",
    "import pytorch_lightning as pl\n",
    "from torchvision import transforms\n",
    "from pytorch_lightning.callbacks import (EarlyStopping, ModelCheckpoint,\n",
    "                                         LearningRateMonitor)\n",
    "from torchmetrics import ConfusionMatrix\n",
    "from pl_bolts.models.vision.unet import UNet"
   ]
  },
  {
   "cell_type": "markdown",
   "id": "peaceful-perception",
   "metadata": {},
   "source": [
    "Define an experiment configuration"
   ]
  },
  {
   "cell_type": "code",
   "execution_count": 2,
   "id": "fifteen-remove",
   "metadata": {},
   "outputs": [],
   "source": [
    "cfg = {\n",
    "    \"root_dir\": pathlib.Path(\"/media/toshiba-hdd/mlfires/dataset/images\",\n",
    "                             \"final_dataset_alltiles_ts32\"),\n",
    "    \"ds_version\": pathlib.Path(\"dataset_v1\"),\n",
    "    \"n_splits\": 3,  # Number of folds\n",
    "    \"expand_fires\": False,  # Whether to expand each train fire pixel to augment fire patterns\n",
    "    \"batch_size\": 32,\n",
    "    \"num_workers\": 8,\n",
    "    \"num_classes\": 3,  # 'Background' as 0, 'no-fire' as 1, 'fire' as 2\n",
    "    \"input_channels\": 62,  # Number of features/channels saved in the tiles numpy arrays\n",
    "    \"ignore_index\": -100,\n",
    "    \"lr\": 0.001,  # Initial learning rate\n",
    "    \"patience\": 10,  # Epochs patience for early stopping\n",
    "    \"max_epochs\": 60,\n",
    "    \"monitor\": \"val_nh1\",\n",
    "    \"mode\": \"max\",\n",
    "}"
   ]
  },
  {
   "cell_type": "markdown",
   "id": "sound-notice",
   "metadata": {},
   "source": [
    "The `SemSegmentDataset` class inherits from `torch.utils.data.Dataset` to create a custom dataset for semantic segmentation. It loads pairs of images and masks, which are already saved to disk as *numpy* arrays.\n",
    "\n",
    "The list of *features* that are loaded as image channels is thus predefined during saving the arrays. (TODO) We may want to pass a list of feature/channel indexes that we want to keep. Regarding target masks, nan values are already mapped to class 0 (background), 0 values to class 1 (no fire) and 1 values to class 2 (fire)."
   ]
  },
  {
   "cell_type": "code",
   "execution_count": 3,
   "id": "promising-things",
   "metadata": {},
   "outputs": [],
   "source": [
    "class SemSegmentDataset(data.Dataset):\n",
    "    \"\"\"Semantic Segmentation Dataset for image tiles.\"\"\"\n",
    "\n",
    "    def __init__(self, dataframe: pd.DataFrame, root_dir: Union[\n",
    "        str, pathlib.Path], expand_fires: bool = False, transform:\n",
    "                 transforms.Compose = None, target_transform:\n",
    "                 transforms.Compose = None) -> None:\n",
    "        self.dataframe = dataframe\n",
    "        self.root_dir = root_dir\n",
    "        self.expand_fires = expand_fires\n",
    "        self.transform, self.target_transform = transform, target_transform\n",
    "\n",
    "    def __len__(self) -> int:\n",
    "        return len(self.dataframe)\n",
    "\n",
    "    def __getitem__(self, idx: int) -> Tuple[Any, Any]:\n",
    "        filepath, coords = self.dataframe.loc[idx, \"filepath\"], \\\n",
    "            literal_eval(self.dataframe.loc[idx, \"coords\"])\n",
    "\n",
    "        fname = f\"{pathlib.Path(filepath).stem}_{coords[0]}_{coords[1]}\"\n",
    "        img = np.load(pathlib.Path(self.root_dir, \"img\", f\"{fname}.npy\"))\n",
    "        mask = np.load(pathlib.Path(self.root_dir, \"mask\", f\"{fname}.npy\"))\n",
    "\n",
    "        if self.expand_fires:\n",
    "            kernel = np.ones((3, 3), np.uint8)\n",
    "            mask_ = cv.dilate((mask > 1).astype(\"uint8\"), kernel,\n",
    "                              iterations=1)\n",
    "            mask = np.where(mask == 0, 0, np.where(mask_ > 0, 2, mask))\n",
    "\n",
    "        if self.transform:\n",
    "            img = self.transform(img)\n",
    "        if self.target_transform:\n",
    "            mask = torch.squeeze(self.target_transform(mask))\n",
    "\n",
    "        return img, mask"
   ]
  },
  {
   "cell_type": "markdown",
   "id": "adolescent-falls",
   "metadata": {},
   "source": [
    "Verifying that the `SemSegmentDataset` class is working as intended."
   ]
  },
  {
   "cell_type": "code",
   "execution_count": 4,
   "id": "municipal-skirt",
   "metadata": {},
   "outputs": [
    {
     "name": "stdout",
     "output_type": "stream",
     "text": [
      "img shape: torch.Size([62, 32, 32]) mask shape: torch.Size([32, 32])\n",
      "img min: tensor(-1., dtype=torch.float64) img max: tensor(1., dtype=torch.float64) mask min: tensor(0.) mask max: tensor(1.)\n"
     ]
    }
   ],
   "source": [
    "transform = transforms.Compose([transforms.ToTensor()])\n",
    "target_transform = transforms.Compose([transforms.ToTensor()])\n",
    "\n",
    "test_dataset_ = SemSegmentDataset(\n",
    "    pd.read_csv(pathlib.Path(cfg[\"ds_version\"], \"test_tiles.csv\")), cfg[\n",
    "        \"root_dir\"], expand_fires=False, transform=transform,\n",
    "    target_transform=target_transform\n",
    ")\n",
    "\n",
    "img, mask = test_dataset_[0]\n",
    "\n",
    "print(\"img shape:\", img.shape, \"mask shape:\", mask.shape)\n",
    "print(\"img min:\", torch.min(img), \"img max:\", torch.max(img),\n",
    "      \"mask min:\", torch.min(mask), \"mask max:\", torch.max(mask))"
   ]
  },
  {
   "cell_type": "markdown",
   "id": "western-spectacular",
   "metadata": {},
   "source": [
    "Checking class frequencies in training data in order to define class weights"
   ]
  },
  {
   "cell_type": "code",
   "execution_count": 5,
   "id": "skilled-breakfast",
   "metadata": {},
   "outputs": [
    {
     "name": "stdout",
     "output_type": "stream",
     "text": [
      "0 tensor([ 77876, 183280,    988])\n",
      "1 tensor([ 80049, 180681,   1414])\n",
      "2 tensor([ 81406, 179526,   1212])\n",
      "3 tensor([ 78803, 181936,   1405])\n",
      "4 tensor([ 81341, 180096,    707])\n",
      "5 tensor([ 75533, 185644,    967])\n",
      "6 tensor([ 77548, 183599,    997])\n",
      "7 tensor([ 76875, 183957,   1312])\n",
      "8 tensor([ 82116, 178851,   1177])\n",
      "9 tensor([ 76655, 184383,   1106])\n",
      "10 tensor([ 76082, 185211,    851])\n",
      "11 tensor([ 82336, 178657,   1151])\n",
      "12 tensor([ 81476, 179583,   1085])\n",
      "13 tensor([ 3137, 11164,    35])\n",
      "\n",
      "Inverse frequency of each class as class weights:\n",
      "\t tensor([  3.3186,   1.4400, 237.5379])\n"
     ]
    }
   ],
   "source": [
    "transform = transforms.Compose([transforms.ToTensor()])\n",
    "target_transform = transforms.Compose([transforms.ToTensor()])\n",
    "\n",
    "train_dataset_ = SemSegmentDataset(\n",
    "    pd.read_csv(pathlib.Path(cfg[\"ds_version\"], \"train_tiles.csv\")), cfg[\n",
    "        \"root_dir\"], expand_fires=cfg[\"expand_fires\"], transform=transform,\n",
    "    target_transform=target_transform\n",
    ")\n",
    "\n",
    "train_dataloader_ = data.DataLoader(train_dataset_, batch_size=256)\n",
    "\n",
    "class_counts_batches_ = []\n",
    "for batch_idx, batch in enumerate(train_dataloader_):\n",
    "    class_counts_batch = batch[1].long().unique(return_counts=True)\n",
    "    class_counts_batches_.append(class_counts_batch[1])\n",
    "    print(batch_idx, class_counts_batch[1])\n",
    "\n",
    "class_counts_batches = torch.stack(class_counts_batches_)\n",
    "class_weight = torch.sum(class_counts_batches) / torch.sum(\n",
    "    class_counts_batches, dim=0)\n",
    "print(\"\\nInverse frequency of each class as class weights:\\n\\t\",\n",
    "      class_weight)"
   ]
  },
  {
   "cell_type": "markdown",
   "id": "rising-portsmouth",
   "metadata": {},
   "source": [
    "A custom `pl.LightningDataModule` to manage the data processing setup for the experiments."
   ]
  },
  {
   "cell_type": "code",
   "execution_count": 6,
   "id": "abstract-replacement",
   "metadata": {},
   "outputs": [],
   "source": [
    "class SemSegmentDataModule(pl.LightningDataModule):\n",
    "    \"\"\"Semantic Segmentation DataModule for image tiles.\"\"\"\n",
    "\n",
    "    def __init__(self, dataframes: List[pd.DataFrame], root_dir: Union[\n",
    "        str, pathlib.Path], expand_fires: bool = False, batch_size: int = 32,\n",
    "                 num_workers: int = 0, **kwargs) -> None:\n",
    "        super().__init__(**kwargs)\n",
    "\n",
    "        self.train_df, self.val_df, self.test_df = dataframes\n",
    "        self.root_dir = root_dir\n",
    "        self.expand_fires = expand_fires\n",
    "        self.batch_size, self.num_workers = batch_size, num_workers\n",
    "\n",
    "        self.transform = transforms.Compose([transforms.ToTensor()])\n",
    "        self.target_transform = transforms.Compose([transforms.ToTensor()])\n",
    "\n",
    "    def prepare_data(self):\n",
    "        pass\n",
    "\n",
    "    def setup(self, stage: str = None) -> None:\n",
    "        self.train_dataset = SemSegmentDataset(\n",
    "            self.train_df, self.root_dir, expand_fires=self.expand_fires,\n",
    "            transform=self.transform, target_transform=self.target_transform\n",
    "        )\n",
    "        self.val_dataset = SemSegmentDataset(\n",
    "            self.val_df, self.root_dir, expand_fires=False,\n",
    "            transform=self.transform, target_transform=self.target_transform\n",
    "        )\n",
    "        self.test_dataset = SemSegmentDataset(\n",
    "            self.test_df, self.root_dir, expand_fires=False,\n",
    "            transform=self.transform, target_transform=self.target_transform\n",
    "        )\n",
    "\n",
    "    def train_dataloader(self) -> data.DataLoader:\n",
    "        return data.DataLoader(self.train_dataset, batch_size=self.batch_size,\n",
    "                               shuffle=True, num_workers=self.num_workers)\n",
    "\n",
    "    def val_dataloader(self) -> data.DataLoader:\n",
    "        return data.DataLoader(self.val_dataset, batch_size=self.batch_size,\n",
    "                               num_workers=self.num_workers)\n",
    "\n",
    "    def test_dataloader(self) -> data.DataLoader:\n",
    "        return data.DataLoader(self.test_dataset, batch_size=self.batch_size,\n",
    "                               num_workers=self.num_workers)"
   ]
  },
  {
   "cell_type": "markdown",
   "id": "stone-aggregate",
   "metadata": {},
   "source": [
    "A custom `pl.LightningModule` to manage the model and the train, validation and test steps"
   ]
  },
  {
   "cell_type": "code",
   "execution_count": 7,
   "id": "according-hampton",
   "metadata": {},
   "outputs": [],
   "source": [
    "class SemSegmentModule(pl.LightningModule):\n",
    "    \"\"\"Semantic Segmentation LightningModule using UNet.\"\"\"\n",
    "    def __init__(self, num_classes: int = 3, input_channels: int = 3,\n",
    "                 num_layers: int = 5, features_start: int = 64, bilinear:\n",
    "                 bool = False, ignore_index: int = -100, weight:\n",
    "                 torch.Tensor = None, lr: float = 0.001,\n",
    "                 monitor: str = \"val_loss\", mode: str = \"min\", **kwargs\n",
    "                ) -> None:\n",
    "        super().__init__(**kwargs)\n",
    "        self.save_hyperparameters()\n",
    "\n",
    "        self.net = UNet(\n",
    "            num_classes=num_classes, input_channels=input_channels,\n",
    "            num_layers=num_layers, features_start=features_start,\n",
    "            bilinear=bilinear\n",
    "        )\n",
    "\n",
    "        self.confmat = ConfusionMatrix(task=\"multiclass\", num_classes=num_classes,\n",
    "                                       ignore_index=ignore_index)\n",
    "\n",
    "    def forward(self, x: torch.Tensor) -> torch.Tensor:\n",
    "        return self.net(x)\n",
    "\n",
    "    @staticmethod\n",
    "    def calculate_precision_recall(confusion_matrix):\n",
    "        true_positive = np.diagonal(confusion_matrix)\n",
    "        false_positive = np.sum(confusion_matrix, axis=0) - true_positive\n",
    "        false_negative = np.sum(confusion_matrix, axis=1) - true_positive\n",
    "\n",
    "        precision = true_positive / (true_positive + false_positive)\n",
    "        recall = true_positive / (true_positive + false_negative)\n",
    "\n",
    "        return precision, recall\n",
    "\n",
    "    @staticmethod\n",
    "    def hybridrecall(w1, w0, rec1, rec0, hybtype = 'hybrid'):\n",
    "        if hybtype == 'hybrid':\n",
    "            if rec1 > 0 and rec0 > 0:\n",
    "                return (w1 + w0) / (w1 / rec1 + w0 / rec0)\n",
    "            else:\n",
    "                return -1000\n",
    "        elif hybtype == 'NH':\n",
    "            return w1*rec1 + w0*rec0\n",
    "        else:\n",
    "            return -1000\n",
    "\n",
    "    def _shared_step(self, batch: torch.Tensor):\n",
    "        input_, target = batch\n",
    "        input_, target = input_.float(), target.long()\n",
    "        preds = self(input_)\n",
    "        loss = F.cross_entropy(preds, target, weight=self.hparams.weight.to(\n",
    "            self.device), ignore_index=self.hparams.ignore_index)\n",
    "        return preds, target, loss\n",
    "\n",
    "    def training_step(self, batch: torch.Tensor, batch_idx: int\n",
    "                     ) -> Dict[str, Any]:\n",
    "        _, _, loss = self._shared_step(batch)\n",
    "        log_dict = {\"train_loss\": loss}\n",
    "        self.log_dict(log_dict, on_step=False, on_epoch=True)\n",
    "        return loss\n",
    "\n",
    "    def validation_step(self, batch: torch.Tensor, batch_idx: int\n",
    "                       ) -> Dict[str, Any]:\n",
    "        preds, target, loss = self._shared_step(batch)\n",
    "        log_dict = {\"val_loss\": loss}\n",
    "        self.log_dict(log_dict)\n",
    "        return {'val_confmat': self.confmat(preds, target)}\n",
    "\n",
    "    def validation_epoch_end(self, outputs):\n",
    "        confmats = torch.stack([tmp['val_confmat'] for tmp in outputs])\n",
    "        confmat = confmats.sum(dim=0).cpu().numpy()\n",
    "\n",
    "        precision, recall = self.calculate_precision_recall(confmat)\n",
    "        log_dict = {f\"val_precision_{idx}\": precision[idx] for idx in range(\n",
    "            self.hparams.num_classes)} | {f\"val_recall_{idx}\": recall[idx]\n",
    "                                          for idx in range(\n",
    "                                              self.hparams.num_classes)} | {\n",
    "            \"val_hybrid1\": self.hybridrecall(1, 1, recall[2], recall[1]),\n",
    "            \"val_hybrid2\": self.hybridrecall(2, 1, recall[2], recall[1]),\n",
    "            \"val_hybrid5\": self.hybridrecall(5, 1, recall[2], recall[1]),\n",
    "            \"val_nh1\": self.hybridrecall(1, 1, recall[2], recall[1], 'NH'),\n",
    "            \"val_nh2\": self.hybridrecall(2, 1, recall[2], recall[1], 'NH'),\n",
    "            \"val_nh5\": self.hybridrecall(5, 1, recall[2], recall[1], 'NH'),\n",
    "            \"val_nh10\": self.hybridrecall(10, 1, recall[2], recall[1], 'NH'),\n",
    "        }\n",
    "\n",
    "        self.log_dict(log_dict)\n",
    "\n",
    "    def test_step(self, batch: torch.Tensor, batch_idx: int\n",
    "                 ) -> Dict[str, Any]:\n",
    "        preds, target, loss = self._shared_step(batch)\n",
    "        log_dict = {\"test_loss\": loss}\n",
    "        self.log_dict(log_dict)\n",
    "        return {'test_confmat': self.confmat(preds, target)}\n",
    "\n",
    "    def test_epoch_end(self, outputs):\n",
    "        confmats = torch.stack([tmp['test_confmat'] for tmp in outputs])\n",
    "        confmat = confmats.sum(dim=0).cpu().numpy()\n",
    "\n",
    "        precision, recall = self.calculate_precision_recall(confmat)\n",
    "        log_dict = {f\"test_precision_{idx}\": precision[idx] for idx in range(\n",
    "            self.hparams.num_classes)} | {f\"test_recall_{idx}\": recall[idx]\n",
    "                                          for idx in range(\n",
    "                                              self.hparams.num_classes)} | {\n",
    "            \"test_hybrid1\": self.hybridrecall(1, 1, recall[2], recall[1]),\n",
    "            \"test_hybrid2\": self.hybridrecall(2, 1, recall[2], recall[1]),\n",
    "            \"test_hybrid5\": self.hybridrecall(5, 1, recall[2], recall[1]),\n",
    "            \"test_nh1\": self.hybridrecall(1, 1, recall[2], recall[1], 'NH'),\n",
    "            \"test_nh2\": self.hybridrecall(2, 1, recall[2], recall[1], 'NH'),\n",
    "            \"test_nh5\": self.hybridrecall(5, 1, recall[2], recall[1], 'NH'),\n",
    "            \"test_nh10\": self.hybridrecall(10, 1, recall[2], recall[1], 'NH'),\n",
    "        }\n",
    "\n",
    "        self.log_dict(log_dict)\n",
    "\n",
    "        confmat_norm = confmat.astype('float') / confmat.sum(axis=1)[:,\n",
    "                                                                     np.newaxis]\n",
    "        print(confmat)\n",
    "        plt.figure(figsize=(5, 4))\n",
    "        sns.heatmap(confmat_norm, annot=True,  fmt='.3f')\n",
    "        plt.show()\n",
    "\n",
    "    def configure_optimizers(self):\n",
    "        optimizer = optim.Adam(self.parameters(), lr=self.hparams.lr)\n",
    "        scheduler = optim.lr_scheduler.ReduceLROnPlateau(\n",
    "            optimizer, mode=self.hparams.mode, factor=0.2, patience=4,\n",
    "            min_lr=1e-5)\n",
    "        return {\"optimizer\": optimizer, \"lr_scheduler\": scheduler,\n",
    "                \"monitor\": self.hparams.monitor}"
   ]
  },
  {
   "cell_type": "markdown",
   "id": "dependent-victory",
   "metadata": {},
   "source": [
    "Configure and run model training"
   ]
  },
  {
   "cell_type": "code",
   "execution_count": 8,
   "id": "earned-eating",
   "metadata": {},
   "outputs": [
    {
     "name": "stderr",
     "output_type": "stream",
     "text": [
      "GPU available: True (cuda), used: True\n",
      "TPU available: False, using: 0 TPU cores\n",
      "IPU available: False, using: 0 IPUs\n",
      "HPU available: False, using: 0 HPUs\n",
      "Missing logger folder: /home/kalexis/mlfires_private/version6/lightning_logs\n"
     ]
    },
    {
     "name": "stdout",
     "output_type": "stream",
     "text": [
      "Fold 1:\n"
     ]
    },
    {
     "name": "stderr",
     "output_type": "stream",
     "text": [
      "LOCAL_RANK: 0 - CUDA_VISIBLE_DEVICES: [0,1]\n",
      "\n",
      "  | Name    | Type                      | Params\n",
      "------------------------------------------------------\n",
      "0 | net     | UNet                      | 31.1 M\n",
      "1 | confmat | MulticlassConfusionMatrix | 0     \n",
      "------------------------------------------------------\n",
      "31.1 M    Trainable params\n",
      "0         Non-trainable params\n",
      "31.1 M    Total params\n",
      "124.287   Total estimated model params size (MB)\n"
     ]
    },
    {
     "data": {
      "application/vnd.jupyter.widget-view+json": {
       "model_id": "",
       "version_major": 2,
       "version_minor": 0
      },
      "text/plain": [
       "A Jupyter Widget"
      ]
     },
     "metadata": {},
     "output_type": "display_data"
    },
    {
     "name": "stderr",
     "output_type": "stream",
     "text": [
      "/tmp/ipykernel_23940/2371899822.py:30: RuntimeWarning: invalid value encountered in divide\n",
      "  precision = true_positive / (true_positive + false_positive)\n",
      "/home/kalexis/.local/share/virtualenvs/mlfires_private-NKUXObPR/lib/python3.9/site-packages/pytorch_lightning/trainer/connectors/logger_connector/result.py:233: UserWarning: You called `self.log('val_hybrid1', ...)` in your `validation_epoch_end` but the value needs to be floating point. Converting it to torch.float32.\n",
      "  warning_cache.warn(\n",
      "/home/kalexis/.local/share/virtualenvs/mlfires_private-NKUXObPR/lib/python3.9/site-packages/pytorch_lightning/trainer/connectors/logger_connector/result.py:233: UserWarning: You called `self.log('val_hybrid2', ...)` in your `validation_epoch_end` but the value needs to be floating point. Converting it to torch.float32.\n",
      "  warning_cache.warn(\n",
      "/home/kalexis/.local/share/virtualenvs/mlfires_private-NKUXObPR/lib/python3.9/site-packages/pytorch_lightning/trainer/connectors/logger_connector/result.py:233: UserWarning: You called `self.log('val_hybrid5', ...)` in your `validation_epoch_end` but the value needs to be floating point. Converting it to torch.float32.\n",
      "  warning_cache.warn(\n"
     ]
    },
    {
     "data": {
      "application/vnd.jupyter.widget-view+json": {
       "model_id": "21328aaf46534494902b62fa5de83ea0",
       "version_major": 2,
       "version_minor": 0
      },
      "text/plain": [
       "A Jupyter Widget"
      ]
     },
     "metadata": {},
     "output_type": "display_data"
    },
    {
     "data": {
      "application/vnd.jupyter.widget-view+json": {
       "model_id": "",
       "version_major": 2,
       "version_minor": 0
      },
      "text/plain": [
       "A Jupyter Widget"
      ]
     },
     "metadata": {},
     "output_type": "display_data"
    },
    {
     "data": {
      "application/vnd.jupyter.widget-view+json": {
       "model_id": "",
       "version_major": 2,
       "version_minor": 0
      },
      "text/plain": [
       "A Jupyter Widget"
      ]
     },
     "metadata": {},
     "output_type": "display_data"
    },
    {
     "data": {
      "application/vnd.jupyter.widget-view+json": {
       "model_id": "",
       "version_major": 2,
       "version_minor": 0
      },
      "text/plain": [
       "A Jupyter Widget"
      ]
     },
     "metadata": {},
     "output_type": "display_data"
    },
    {
     "data": {
      "application/vnd.jupyter.widget-view+json": {
       "model_id": "",
       "version_major": 2,
       "version_minor": 0
      },
      "text/plain": [
       "A Jupyter Widget"
      ]
     },
     "metadata": {},
     "output_type": "display_data"
    },
    {
     "data": {
      "application/vnd.jupyter.widget-view+json": {
       "model_id": "",
       "version_major": 2,
       "version_minor": 0
      },
      "text/plain": [
       "A Jupyter Widget"
      ]
     },
     "metadata": {},
     "output_type": "display_data"
    },
    {
     "data": {
      "application/vnd.jupyter.widget-view+json": {
       "model_id": "",
       "version_major": 2,
       "version_minor": 0
      },
      "text/plain": [
       "A Jupyter Widget"
      ]
     },
     "metadata": {},
     "output_type": "display_data"
    },
    {
     "data": {
      "application/vnd.jupyter.widget-view+json": {
       "model_id": "",
       "version_major": 2,
       "version_minor": 0
      },
      "text/plain": [
       "A Jupyter Widget"
      ]
     },
     "metadata": {},
     "output_type": "display_data"
    },
    {
     "data": {
      "application/vnd.jupyter.widget-view+json": {
       "model_id": "",
       "version_major": 2,
       "version_minor": 0
      },
      "text/plain": [
       "A Jupyter Widget"
      ]
     },
     "metadata": {},
     "output_type": "display_data"
    },
    {
     "data": {
      "application/vnd.jupyter.widget-view+json": {
       "model_id": "",
       "version_major": 2,
       "version_minor": 0
      },
      "text/plain": [
       "A Jupyter Widget"
      ]
     },
     "metadata": {},
     "output_type": "display_data"
    },
    {
     "data": {
      "application/vnd.jupyter.widget-view+json": {
       "model_id": "",
       "version_major": 2,
       "version_minor": 0
      },
      "text/plain": [
       "A Jupyter Widget"
      ]
     },
     "metadata": {},
     "output_type": "display_data"
    },
    {
     "data": {
      "application/vnd.jupyter.widget-view+json": {
       "model_id": "",
       "version_major": 2,
       "version_minor": 0
      },
      "text/plain": [
       "A Jupyter Widget"
      ]
     },
     "metadata": {},
     "output_type": "display_data"
    },
    {
     "data": {
      "application/vnd.jupyter.widget-view+json": {
       "model_id": "",
       "version_major": 2,
       "version_minor": 0
      },
      "text/plain": [
       "A Jupyter Widget"
      ]
     },
     "metadata": {},
     "output_type": "display_data"
    },
    {
     "data": {
      "application/vnd.jupyter.widget-view+json": {
       "model_id": "",
       "version_major": 2,
       "version_minor": 0
      },
      "text/plain": [
       "A Jupyter Widget"
      ]
     },
     "metadata": {},
     "output_type": "display_data"
    },
    {
     "data": {
      "application/vnd.jupyter.widget-view+json": {
       "model_id": "",
       "version_major": 2,
       "version_minor": 0
      },
      "text/plain": [
       "A Jupyter Widget"
      ]
     },
     "metadata": {},
     "output_type": "display_data"
    },
    {
     "data": {
      "application/vnd.jupyter.widget-view+json": {
       "model_id": "",
       "version_major": 2,
       "version_minor": 0
      },
      "text/plain": [
       "A Jupyter Widget"
      ]
     },
     "metadata": {},
     "output_type": "display_data"
    },
    {
     "data": {
      "application/vnd.jupyter.widget-view+json": {
       "model_id": "",
       "version_major": 2,
       "version_minor": 0
      },
      "text/plain": [
       "A Jupyter Widget"
      ]
     },
     "metadata": {},
     "output_type": "display_data"
    },
    {
     "data": {
      "application/vnd.jupyter.widget-view+json": {
       "model_id": "",
       "version_major": 2,
       "version_minor": 0
      },
      "text/plain": [
       "A Jupyter Widget"
      ]
     },
     "metadata": {},
     "output_type": "display_data"
    },
    {
     "data": {
      "application/vnd.jupyter.widget-view+json": {
       "model_id": "",
       "version_major": 2,
       "version_minor": 0
      },
      "text/plain": [
       "A Jupyter Widget"
      ]
     },
     "metadata": {},
     "output_type": "display_data"
    },
    {
     "name": "stdout",
     "output_type": "stream",
     "text": [
      "Found pretrained model, loading from ckpts/semseg-fold01-epoch07-val_loss0.289.ckpt\n"
     ]
    },
    {
     "name": "stderr",
     "output_type": "stream",
     "text": [
      "LOCAL_RANK: 0 - CUDA_VISIBLE_DEVICES: [0,1]\n",
      "/home/kalexis/.local/share/virtualenvs/mlfires_private-NKUXObPR/lib/python3.9/site-packages/pytorch_lightning/trainer/connectors/data_connector.py:488: PossibleUserWarning: Your `test_dataloader`'s sampler has shuffling enabled, it is strongly recommended that you turn shuffling off for val/test/predict dataloaders.\n",
      "  rank_zero_warn(\n"
     ]
    },
    {
     "data": {
      "application/vnd.jupyter.widget-view+json": {
       "model_id": "2258251269054fd5bc71b3f623c3ad75",
       "version_major": 2,
       "version_minor": 0
      },
      "text/plain": [
       "A Jupyter Widget"
      ]
     },
     "metadata": {},
     "output_type": "display_data"
    },
    {
     "name": "stdout",
     "output_type": "stream",
     "text": [
      "[[ 705225     230      58]\n",
      " [      5 1143742  423316]\n",
      " [      0     688    8208]]\n"
     ]
    },
    {
     "data": {
      "image/png": "[encoded data removed]",
      "text/plain": [
       "<Figure size 500x400 with 2 Axes>"
      ]
     },
     "metadata": {},
     "output_type": "display_data"
    },
    {
     "name": "stderr",
     "output_type": "stream",
     "text": [
      "LOCAL_RANK: 0 - CUDA_VISIBLE_DEVICES: [0,1]\n"
     ]
    },
    {
     "data": {
      "application/vnd.jupyter.widget-view+json": {
       "model_id": "fdc42d55aa844156a2d90799d4a22d69",
       "version_major": 2,
       "version_minor": 0
      },
      "text/plain": [
       "A Jupyter Widget"
      ]
     },
     "metadata": {},
     "output_type": "display_data"
    },
    {
     "name": "stdout",
     "output_type": "stream",
     "text": [
      "[[325592    107     21]\n",
      " [     3 599112 210390]\n",
      " [     0    652   4859]]\n"
     ]
    },
    {
     "data": {
      "image/png": "[encoded data removed]",
      "text/plain": [
       "<Figure size 500x400 with 2 Axes>"
      ]
     },
     "metadata": {},
     "output_type": "display_data"
    },
    {
     "name": "stderr",
     "output_type": "stream",
     "text": [
      "LOCAL_RANK: 0 - CUDA_VISIBLE_DEVICES: [0,1]\n"
     ]
    },
    {
     "data": {
      "application/vnd.jupyter.widget-view+json": {
       "model_id": "151b15c6506f419f9f6ccdde501b9f34",
       "version_major": 2,
       "version_minor": 0
      },
      "text/plain": [
       "A Jupyter Widget"
      ]
     },
     "metadata": {},
     "output_type": "display_data"
    },
    {
     "name": "stdout",
     "output_type": "stream",
     "text": [
      "[[51591154    12211     2651]\n",
      " [     207 91210373 16399362]\n",
      " [       0      167      515]]\n"
     ]
    },
    {
     "data": {
      "image/png": "[encoded data removed]",
      "text/plain": [
       "<Figure size 500x400 with 2 Axes>"
      ]
     },
     "metadata": {},
     "output_type": "display_data"
    },
    {
     "name": "stderr",
     "output_type": "stream",
     "text": [
      "GPU available: True (cuda), used: True\n",
      "TPU available: False, using: 0 TPU cores\n",
      "IPU available: False, using: 0 IPUs\n",
      "HPU available: False, using: 0 HPUs\n",
      "/home/kalexis/.local/share/virtualenvs/mlfires_private-NKUXObPR/lib/python3.9/site-packages/pytorch_lightning/callbacks/model_checkpoint.py:604: UserWarning: Checkpoint directory /home/kalexis/mlfires_private/version6/ckpts exists and is not empty.\n",
      "  rank_zero_warn(f\"Checkpoint directory {dirpath} exists and is not empty.\")\n",
      "LOCAL_RANK: 0 - CUDA_VISIBLE_DEVICES: [0,1]\n",
      "\n",
      "  | Name    | Type                      | Params\n",
      "------------------------------------------------------\n",
      "0 | net     | UNet                      | 31.1 M\n",
      "1 | confmat | MulticlassConfusionMatrix | 0     \n",
      "------------------------------------------------------\n",
      "31.1 M    Trainable params\n",
      "0         Non-trainable params\n",
      "31.1 M    Total params\n",
      "124.287   Total estimated model params size (MB)\n"
     ]
    },
    {
     "name": "stdout",
     "output_type": "stream",
     "text": [
      "    train result: [{'test_loss': 0.2551840841770172, 'test_precision_0': 0.9999929101144307, 'test_precision_1': 0.9991980151311306, 'test_precision_2': 0.019018402064961006, 'test_recall_0': 0.999591786402235, 'test_recall_1': 0.729863445183761, 'test_recall_2': 0.9226618705035972, 'test_hybrid1': 0.8150158610615229, 'test_hybrid2': 0.8479940586596966, 'test_hybrid5': 0.8837536095548658, 'test_nh1': 1.6525253156873583, 'test_nh2': 2.575187186190955, 'test_nh5': 5.3431727977017465, 'test_nh10': 9.956482150219733}]\n",
      "    val result: [{'test_loss': 0.2893654704093933, 'test_precision_0': 0.9999907860992951, 'test_precision_1': 0.9987347279665127, 'test_precision_2': 0.02257165420170019, 'test_recall_0': 0.9996070244381677, 'test_recall_1': 0.7400967257768636, 'test_recall_2': 0.8816911631282889, 'test_hybrid1': 0.8047128079346555, 'test_hybrid2': 0.8288339814586916, 'test_hybrid5': 0.8544458986354344, 'test_nh1': 1.6217878889051525, 'test_nh2': 2.503479052033441, 'test_nh5': 5.148552541418308, 'test_nh10': 9.557008357059752}]\n",
      "    test result: [{'test_loss': 0.12763072550296783, 'test_precision_0': 0.9999959877003438, 'test_precision_1': 0.9998643101653446, 'test_precision_2': 3.139759919934293e-05, 'test_recall_0': 0.9997120103206572, 'test_recall_1': 0.8476017299591148, 'test_recall_2': 0.7551319648093842, 'test_hybrid1': 0.7986993245466263, 'test_hybrid2': 0.7836288288461682, 'test_hybrid5': 0.7691165249955594, 'test_nh1': 1.602733694768499, 'test_nh2': 2.3578656595778833, 'test_nh5': 4.623261554006035, 'test_nh10': 8.398921378052956}]\n",
      "Fold 2:\n"
     ]
    },
    {
     "data": {
      "application/vnd.jupyter.widget-view+json": {
       "model_id": "",
       "version_major": 2,
       "version_minor": 0
      },
      "text/plain": [
       "A Jupyter Widget"
      ]
     },
     "metadata": {},
     "output_type": "display_data"
    },
    {
     "data": {
      "application/vnd.jupyter.widget-view+json": {
       "model_id": "d591bea49f53491f87a2d17860ab8fcc",
       "version_major": 2,
       "version_minor": 0
      },
      "text/plain": [
       "A Jupyter Widget"
      ]
     },
     "metadata": {},
     "output_type": "display_data"
    },
    {
     "data": {
      "application/vnd.jupyter.widget-view+json": {
       "model_id": "",
       "version_major": 2,
       "version_minor": 0
      },
      "text/plain": [
       "A Jupyter Widget"
      ]
     },
     "metadata": {},
     "output_type": "display_data"
    },
    {
     "data": {
      "application/vnd.jupyter.widget-view+json": {
       "model_id": "",
       "version_major": 2,
       "version_minor": 0
      },
      "text/plain": [
       "A Jupyter Widget"
      ]
     },
     "metadata": {},
     "output_type": "display_data"
    },
    {
     "data": {
      "application/vnd.jupyter.widget-view+json": {
       "model_id": "",
       "version_major": 2,
       "version_minor": 0
      },
      "text/plain": [
       "A Jupyter Widget"
      ]
     },
     "metadata": {},
     "output_type": "display_data"
    },
    {
     "data": {
      "application/vnd.jupyter.widget-view+json": {
       "model_id": "",
       "version_major": 2,
       "version_minor": 0
      },
      "text/plain": [
       "A Jupyter Widget"
      ]
     },
     "metadata": {},
     "output_type": "display_data"
    },
    {
     "data": {
      "application/vnd.jupyter.widget-view+json": {
       "model_id": "",
       "version_major": 2,
       "version_minor": 0
      },
      "text/plain": [
       "A Jupyter Widget"
      ]
     },
     "metadata": {},
     "output_type": "display_data"
    },
    {
     "data": {
      "application/vnd.jupyter.widget-view+json": {
       "model_id": "",
       "version_major": 2,
       "version_minor": 0
      },
      "text/plain": [
       "A Jupyter Widget"
      ]
     },
     "metadata": {},
     "output_type": "display_data"
    },
    {
     "data": {
      "application/vnd.jupyter.widget-view+json": {
       "model_id": "",
       "version_major": 2,
       "version_minor": 0
      },
      "text/plain": [
       "A Jupyter Widget"
      ]
     },
     "metadata": {},
     "output_type": "display_data"
    },
    {
     "data": {
      "application/vnd.jupyter.widget-view+json": {
       "model_id": "",
       "version_major": 2,
       "version_minor": 0
      },
      "text/plain": [
       "A Jupyter Widget"
      ]
     },
     "metadata": {},
     "output_type": "display_data"
    },
    {
     "data": {
      "application/vnd.jupyter.widget-view+json": {
       "model_id": "",
       "version_major": 2,
       "version_minor": 0
      },
      "text/plain": [
       "A Jupyter Widget"
      ]
     },
     "metadata": {},
     "output_type": "display_data"
    },
    {
     "data": {
      "application/vnd.jupyter.widget-view+json": {
       "model_id": "",
       "version_major": 2,
       "version_minor": 0
      },
      "text/plain": [
       "A Jupyter Widget"
      ]
     },
     "metadata": {},
     "output_type": "display_data"
    },
    {
     "data": {
      "application/vnd.jupyter.widget-view+json": {
       "model_id": "",
       "version_major": 2,
       "version_minor": 0
      },
      "text/plain": [
       "A Jupyter Widget"
      ]
     },
     "metadata": {},
     "output_type": "display_data"
    },
    {
     "data": {
      "application/vnd.jupyter.widget-view+json": {
       "model_id": "",
       "version_major": 2,
       "version_minor": 0
      },
      "text/plain": [
       "A Jupyter Widget"
      ]
     },
     "metadata": {},
     "output_type": "display_data"
    },
    {
     "data": {
      "application/vnd.jupyter.widget-view+json": {
       "model_id": "",
       "version_major": 2,
       "version_minor": 0
      },
      "text/plain": [
       "A Jupyter Widget"
      ]
     },
     "metadata": {},
     "output_type": "display_data"
    },
    {
     "data": {
      "application/vnd.jupyter.widget-view+json": {
       "model_id": "",
       "version_major": 2,
       "version_minor": 0
      },
      "text/plain": [
       "A Jupyter Widget"
      ]
     },
     "metadata": {},
     "output_type": "display_data"
    },
    {
     "data": {
      "application/vnd.jupyter.widget-view+json": {
       "model_id": "",
       "version_major": 2,
       "version_minor": 0
      },
      "text/plain": [
       "A Jupyter Widget"
      ]
     },
     "metadata": {},
     "output_type": "display_data"
    },
    {
     "data": {
      "application/vnd.jupyter.widget-view+json": {
       "model_id": "",
       "version_major": 2,
       "version_minor": 0
      },
      "text/plain": [
       "A Jupyter Widget"
      ]
     },
     "metadata": {},
     "output_type": "display_data"
    },
    {
     "data": {
      "application/vnd.jupyter.widget-view+json": {
       "model_id": "",
       "version_major": 2,
       "version_minor": 0
      },
      "text/plain": [
       "A Jupyter Widget"
      ]
     },
     "metadata": {},
     "output_type": "display_data"
    },
    {
     "data": {
      "application/vnd.jupyter.widget-view+json": {
       "model_id": "",
       "version_major": 2,
       "version_minor": 0
      },
      "text/plain": [
       "A Jupyter Widget"
      ]
     },
     "metadata": {},
     "output_type": "display_data"
    },
    {
     "data": {
      "application/vnd.jupyter.widget-view+json": {
       "model_id": "",
       "version_major": 2,
       "version_minor": 0
      },
      "text/plain": [
       "A Jupyter Widget"
      ]
     },
     "metadata": {},
     "output_type": "display_data"
    },
    {
     "data": {
      "application/vnd.jupyter.widget-view+json": {
       "model_id": "",
       "version_major": 2,
       "version_minor": 0
      },
      "text/plain": [
       "A Jupyter Widget"
      ]
     },
     "metadata": {},
     "output_type": "display_data"
    },
    {
     "data": {
      "application/vnd.jupyter.widget-view+json": {
       "model_id": "",
       "version_major": 2,
       "version_minor": 0
      },
      "text/plain": [
       "A Jupyter Widget"
      ]
     },
     "metadata": {},
     "output_type": "display_data"
    },
    {
     "name": "stdout",
     "output_type": "stream",
     "text": [
      "Found pretrained model, loading from ckpts/semseg-fold02-epoch10-val_loss0.272.ckpt\n"
     ]
    },
    {
     "name": "stderr",
     "output_type": "stream",
     "text": [
      "LOCAL_RANK: 0 - CUDA_VISIBLE_DEVICES: [0,1]\n"
     ]
    },
    {
     "data": {
      "application/vnd.jupyter.widget-view+json": {
       "model_id": "823334236ae647609dd3c286b55665d4",
       "version_major": 2,
       "version_minor": 0
      },
      "text/plain": [
       "A Jupyter Widget"
      ]
     },
     "metadata": {},
     "output_type": "display_data"
    },
    {
     "name": "stdout",
     "output_type": "stream",
     "text": [
      "[[ 691299      13       9]\n",
      " [     60 1177278  402434]\n",
      " [      0     777    9602]]\n"
     ]
    },
    {
     "data": {
      "image/png": "[encoded data removed]",
      "text/plain": [
       "<Figure size 500x400 with 2 Axes>"
      ]
     },
     "metadata": {},
     "output_type": "display_data"
    },
    {
     "name": "stderr",
     "output_type": "stream",
     "text": [
      "LOCAL_RANK: 0 - CUDA_VISIBLE_DEVICES: [0,1]\n"
     ]
    },
    {
     "data": {
      "application/vnd.jupyter.widget-view+json": {
       "model_id": "4aa72f26b18d4387aa55bc050d017193",
       "version_major": 2,
       "version_minor": 0
      },
      "text/plain": [
       "A Jupyter Widget"
      ]
     },
     "metadata": {},
     "output_type": "display_data"
    },
    {
     "name": "stdout",
     "output_type": "stream",
     "text": [
      "[[339895     12      5]\n",
      " [    57 600478 196261]\n",
      " [     0    545   3483]]\n"
     ]
    },
    {
     "data": {
      "image/png": "[encoded data removed]",
      "text/plain": [
       "<Figure size 500x400 with 2 Axes>"
      ]
     },
     "metadata": {},
     "output_type": "display_data"
    },
    {
     "name": "stderr",
     "output_type": "stream",
     "text": [
      "LOCAL_RANK: 0 - CUDA_VISIBLE_DEVICES: [0,1]\n"
     ]
    },
    {
     "data": {
      "application/vnd.jupyter.widget-view+json": {
       "model_id": "dd3c2a1636b541a0b4236f083ec47f12",
       "version_major": 2,
       "version_minor": 0
      },
      "text/plain": [
       "A Jupyter Widget"
      ]
     },
     "metadata": {},
     "output_type": "display_data"
    },
    {
     "name": "stdout",
     "output_type": "stream",
     "text": [
      "[[51604545     1263      208]\n",
      " [    3205 92900079 14706658]\n",
      " [       0      118      564]]\n"
     ]
    },
    {
     "data": {
      "image/png": "[encoded data removed]",
      "text/plain": [
       "<Figure size 500x400 with 2 Axes>"
      ]
     },
     "metadata": {},
     "output_type": "display_data"
    },
    {
     "name": "stderr",
     "output_type": "stream",
     "text": [
      "GPU available: True (cuda), used: True\n",
      "TPU available: False, using: 0 TPU cores\n",
      "IPU available: False, using: 0 IPUs\n",
      "HPU available: False, using: 0 HPUs\n",
      "LOCAL_RANK: 0 - CUDA_VISIBLE_DEVICES: [0,1]\n",
      "\n",
      "  | Name    | Type                      | Params\n",
      "------------------------------------------------------\n",
      "0 | net     | UNet                      | 31.1 M\n",
      "1 | confmat | MulticlassConfusionMatrix | 0     \n",
      "------------------------------------------------------\n",
      "31.1 M    Trainable params\n",
      "0         Non-trainable params\n",
      "31.1 M    Total params\n",
      "124.287   Total estimated model params size (MB)\n"
     ]
    },
    {
     "name": "stdout",
     "output_type": "stream",
     "text": [
      "    train result: [{'test_loss': 0.24329687654972076, 'test_precision_0': 0.999913214408144, 'test_precision_1': 0.9993294105263872, 'test_precision_2': 0.023303279981555413, 'test_recall_0': 0.9999681768671862, 'test_recall_1': 0.745220196332129, 'test_recall_2': 0.9251372964640139, 'test_hybrid1': 0.8254891550802035, 'test_hybrid2': 0.8562312039989338, 'test_hybrid5': 0.8893515530445717, 'test_nh1': 1.6703574927961429, 'test_nh2': 2.5954947892601568, 'test_nh5': 5.370906678652198, 'test_nh10': 9.996593160972267}]\n",
      "    val result: [{'test_loss': 0.2718862295150757, 'test_precision_0': 0.9998323292700146, 'test_precision_1': 0.9990732652840517, 'test_precision_2': 0.017436883288527102, 'test_recall_0': 0.9999499870554732, 'test_recall_1': 0.7536157310026657, 'test_recall_2': 0.8646971201588878, 'test_hybrid1': 0.8053440987466854, 'test_hybrid2': 0.8242019054087905, 'test_hybrid5': 0.8439640301135222, 'test_nh1': 1.6183128511615534, 'test_nh2': 2.483009971320441, 'test_nh5': 5.077101331797104, 'test_nh10': 9.400586932591544}]\n",
      "    test result: [{'test_loss': 0.11374248564243317, 'test_precision_0': 0.999937896924396, 'test_precision_1': 0.9999851347869022, 'test_precision_2': 3.834796426024125e-05, 'test_recall_0': 0.999971495571369, 'test_recall_1': 0.8633038664773186, 'test_recall_2': 0.8269794721407625, 'test_hybrid1': 0.84475136148497, 'test_hybrid2': 0.8387431308849548, 'test_hybrid5': 0.8328197628836781, 'test_nh1': 1.690283338618081, 'test_nh2': 2.5172628107588437, 'test_nh5': 4.998201227181131, 'test_nh10': 9.133098587884943}]\n",
      "Fold 3:\n"
     ]
    },
    {
     "data": {
      "application/vnd.jupyter.widget-view+json": {
       "model_id": "",
       "version_major": 2,
       "version_minor": 0
      },
      "text/plain": [
       "A Jupyter Widget"
      ]
     },
     "metadata": {},
     "output_type": "display_data"
    },
    {
     "data": {
      "application/vnd.jupyter.widget-view+json": {
       "model_id": "71d0f80625f64e0486ab1912652920a4",
       "version_major": 2,
       "version_minor": 0
      },
      "text/plain": [
       "A Jupyter Widget"
      ]
     },
     "metadata": {},
     "output_type": "display_data"
    },
    {
     "data": {
      "application/vnd.jupyter.widget-view+json": {
       "model_id": "",
       "version_major": 2,
       "version_minor": 0
      },
      "text/plain": [
       "A Jupyter Widget"
      ]
     },
     "metadata": {},
     "output_type": "display_data"
    },
    {
     "data": {
      "application/vnd.jupyter.widget-view+json": {
       "model_id": "",
       "version_major": 2,
       "version_minor": 0
      },
      "text/plain": [
       "A Jupyter Widget"
      ]
     },
     "metadata": {},
     "output_type": "display_data"
    },
    {
     "data": {
      "application/vnd.jupyter.widget-view+json": {
       "model_id": "",
       "version_major": 2,
       "version_minor": 0
      },
      "text/plain": [
       "A Jupyter Widget"
      ]
     },
     "metadata": {},
     "output_type": "display_data"
    },
    {
     "data": {
      "application/vnd.jupyter.widget-view+json": {
       "model_id": "",
       "version_major": 2,
       "version_minor": 0
      },
      "text/plain": [
       "A Jupyter Widget"
      ]
     },
     "metadata": {},
     "output_type": "display_data"
    },
    {
     "data": {
      "application/vnd.jupyter.widget-view+json": {
       "model_id": "",
       "version_major": 2,
       "version_minor": 0
      },
      "text/plain": [
       "A Jupyter Widget"
      ]
     },
     "metadata": {},
     "output_type": "display_data"
    },
    {
     "data": {
      "application/vnd.jupyter.widget-view+json": {
       "model_id": "",
       "version_major": 2,
       "version_minor": 0
      },
      "text/plain": [
       "A Jupyter Widget"
      ]
     },
     "metadata": {},
     "output_type": "display_data"
    },
    {
     "data": {
      "application/vnd.jupyter.widget-view+json": {
       "model_id": "",
       "version_major": 2,
       "version_minor": 0
      },
      "text/plain": [
       "A Jupyter Widget"
      ]
     },
     "metadata": {},
     "output_type": "display_data"
    },
    {
     "data": {
      "application/vnd.jupyter.widget-view+json": {
       "model_id": "",
       "version_major": 2,
       "version_minor": 0
      },
      "text/plain": [
       "A Jupyter Widget"
      ]
     },
     "metadata": {},
     "output_type": "display_data"
    },
    {
     "data": {
      "application/vnd.jupyter.widget-view+json": {
       "model_id": "",
       "version_major": 2,
       "version_minor": 0
      },
      "text/plain": [
       "A Jupyter Widget"
      ]
     },
     "metadata": {},
     "output_type": "display_data"
    },
    {
     "data": {
      "application/vnd.jupyter.widget-view+json": {
       "model_id": "",
       "version_major": 2,
       "version_minor": 0
      },
      "text/plain": [
       "A Jupyter Widget"
      ]
     },
     "metadata": {},
     "output_type": "display_data"
    },
    {
     "data": {
      "application/vnd.jupyter.widget-view+json": {
       "model_id": "",
       "version_major": 2,
       "version_minor": 0
      },
      "text/plain": [
       "A Jupyter Widget"
      ]
     },
     "metadata": {},
     "output_type": "display_data"
    },
    {
     "data": {
      "application/vnd.jupyter.widget-view+json": {
       "model_id": "",
       "version_major": 2,
       "version_minor": 0
      },
      "text/plain": [
       "A Jupyter Widget"
      ]
     },
     "metadata": {},
     "output_type": "display_data"
    },
    {
     "data": {
      "application/vnd.jupyter.widget-view+json": {
       "model_id": "",
       "version_major": 2,
       "version_minor": 0
      },
      "text/plain": [
       "A Jupyter Widget"
      ]
     },
     "metadata": {},
     "output_type": "display_data"
    },
    {
     "data": {
      "application/vnd.jupyter.widget-view+json": {
       "model_id": "",
       "version_major": 2,
       "version_minor": 0
      },
      "text/plain": [
       "A Jupyter Widget"
      ]
     },
     "metadata": {},
     "output_type": "display_data"
    },
    {
     "data": {
      "application/vnd.jupyter.widget-view+json": {
       "model_id": "",
       "version_major": 2,
       "version_minor": 0
      },
      "text/plain": [
       "A Jupyter Widget"
      ]
     },
     "metadata": {},
     "output_type": "display_data"
    },
    {
     "data": {
      "application/vnd.jupyter.widget-view+json": {
       "model_id": "",
       "version_major": 2,
       "version_minor": 0
      },
      "text/plain": [
       "A Jupyter Widget"
      ]
     },
     "metadata": {},
     "output_type": "display_data"
    },
    {
     "data": {
      "application/vnd.jupyter.widget-view+json": {
       "model_id": "",
       "version_major": 2,
       "version_minor": 0
      },
      "text/plain": [
       "A Jupyter Widget"
      ]
     },
     "metadata": {},
     "output_type": "display_data"
    },
    {
     "data": {
      "application/vnd.jupyter.widget-view+json": {
       "model_id": "",
       "version_major": 2,
       "version_minor": 0
      },
      "text/plain": [
       "A Jupyter Widget"
      ]
     },
     "metadata": {},
     "output_type": "display_data"
    },
    {
     "data": {
      "application/vnd.jupyter.widget-view+json": {
       "model_id": "",
       "version_major": 2,
       "version_minor": 0
      },
      "text/plain": [
       "A Jupyter Widget"
      ]
     },
     "metadata": {},
     "output_type": "display_data"
    },
    {
     "name": "stdout",
     "output_type": "stream",
     "text": [
      "Found pretrained model, loading from ckpts/semseg-fold03-epoch08-val_loss0.281.ckpt\n"
     ]
    },
    {
     "name": "stderr",
     "output_type": "stream",
     "text": [
      "LOCAL_RANK: 0 - CUDA_VISIBLE_DEVICES: [0,1]\n"
     ]
    },
    {
     "data": {
      "application/vnd.jupyter.widget-view+json": {
       "model_id": "920815c7b5b4430aa5e1aa388b7e6e61",
       "version_major": 2,
       "version_minor": 0
      },
      "text/plain": [
       "A Jupyter Widget"
      ]
     },
     "metadata": {},
     "output_type": "display_data"
    },
    {
     "name": "stdout",
     "output_type": "stream",
     "text": [
      "[[ 665564      53      15]\n",
      " [     72 1185696  420533]\n",
      " [      0     738    8801]]\n"
     ]
    },
    {
     "data": {
      "image/png": "[encoded data removed]",
      "text/plain": [
       "<Figure size 500x400 with 2 Axes>"
      ]
     },
     "metadata": {},
     "output_type": "display_data"
    },
    {
     "name": "stderr",
     "output_type": "stream",
     "text": [
      "LOCAL_RANK: 0 - CUDA_VISIBLE_DEVICES: [0,1]\n"
     ]
    },
    {
     "data": {
      "application/vnd.jupyter.widget-view+json": {
       "model_id": "159d945cbfaf457da76b494641df01fb",
       "version_major": 2,
       "version_minor": 0
      },
      "text/plain": [
       "A Jupyter Widget"
      ]
     },
     "metadata": {},
     "output_type": "display_data"
    },
    {
     "name": "stdout",
     "output_type": "stream",
     "text": [
      "[[365574     20      7]\n",
      " [    19 563684 206564]\n",
      " [     0    623   4245]]\n"
     ]
    },
    {
     "data": {
      "image/png": "[encoded data removed]",
      "text/plain": [
       "<Figure size 500x400 with 2 Axes>"
      ]
     },
     "metadata": {},
     "output_type": "display_data"
    },
    {
     "name": "stderr",
     "output_type": "stream",
     "text": [
      "LOCAL_RANK: 0 - CUDA_VISIBLE_DEVICES: [0,1]\n"
     ]
    },
    {
     "data": {
      "application/vnd.jupyter.widget-view+json": {
       "model_id": "746e1b17351a457f990e7517aec49df9",
       "version_major": 2,
       "version_minor": 0
      },
      "text/plain": [
       "A Jupyter Widget"
      ]
     },
     "metadata": {},
     "output_type": "display_data"
    },
    {
     "name": "stdout",
     "output_type": "stream",
     "text": [
      "[[51601165     4386      465]\n",
      " [    3572 92608567 14997803]\n",
      " [       0      148      534]]\n"
     ]
    },
    {
     "data": {
      "image/png": "[encoded data removed]",
      "text/plain": [
       "<Figure size 500x400 with 2 Axes>"
      ]
     },
     "metadata": {},
     "output_type": "display_data"
    },
    {
     "name": "stdout",
     "output_type": "stream",
     "text": [
      "    train result: [{'test_loss': 0.2559930980205536, 'test_precision_0': 0.9998918327734678, 'test_precision_1': 0.9993333260288566, 'test_precision_2': 0.02049847559910469, 'test_recall_0': 0.9998978414499303, 'test_recall_1': 0.7381530609767409, 'test_recall_2': 0.9226333997274347, 'test_hybrid1': 0.8201471824131069, 'test_hybrid2': 0.8516821645728451, 'test_hybrid5': 0.8857391850664957, 'test_nh1': 1.6607864607041756, 'test_nh2': 2.5834198604316105, 'test_nh5': 5.351320059613914, 'test_nh10': 9.964487058251088}]\n",
      "    val result: [{'test_loss': 0.28134584426879883, 'test_precision_0': 0.9999480296395171, 'test_precision_1': 0.9988605896935642, 'test_precision_2': 0.02013604280510018, 'test_recall_0': 0.9999261489984984, 'test_recall_1': 0.7318033876564879, 'test_recall_2': 0.8720213640098603, 'test_hybrid1': 0.795782940284743, 'test_hybrid2': 0.8196701061448902, 'test_hybrid5': 0.8450357013778514, 'test_nh1': 1.6038247516663482, 'test_nh2': 2.4758461156762084, 'test_nh5': 5.091910207705789, 'test_nh10': 9.45201702775509}]\n",
      "    test result: [{'test_loss': 0.1214185282588005, 'test_precision_0': 0.9999307815482132, 'test_precision_1': 0.9999510436433826, 'test_precision_2': 3.560284348043264e-05, 'test_recall_0': 0.9999059993315508, 'test_recall_1': 0.8605948974491595, 'test_recall_2': 0.782991202346041, 'test_hybrid1': 0.8199609787044915, 'test_hybrid2': 0.807255826429584, 'test_hybrid5': 0.7949383947267593, 'test_nh1': 1.6435860997952005, 'test_nh2': 2.426577302141242, 'test_nh5': 4.775550909179365, 'test_nh10': 8.69050692090957}]\n"
     ]
    }
   ],
   "source": [
    "train_df_ = pd.read_csv(pathlib.Path(cfg[\"ds_version\"], \"train_tiles.csv\"))\n",
    "test_df = pd.read_csv(pathlib.Path(cfg[\"ds_version\"], \"test_tiles.csv\"))\n",
    "\n",
    "device = torch.device(\"cuda:0\" if torch.cuda.is_available() else \"cpu\")\n",
    "\n",
    "results = []\n",
    "\n",
    "# Split train data into train and validation sets without common days among them\n",
    "for i, (train_index, test_index) in enumerate(GroupKFold(\n",
    "    n_splits=cfg[\"n_splits\"]).split(train_df_, groups=train_df_[\"date\"])):\n",
    "    print(f\"Fold {i+1}:\")\n",
    "    train_df = train_df_.iloc[train_index].reset_index(drop=True)\n",
    "    val_df = train_df_.iloc[test_index].reset_index(drop=True)\n",
    "\n",
    "    model = SemSegmentModule(\n",
    "        num_classes=cfg[\"num_classes\"], input_channels=cfg[\"input_channels\"],\n",
    "        ignore_index=cfg[\"ignore_index\"], weight=class_weight, lr=cfg[\"lr\"],\n",
    "        monitor=cfg[\"monitor\"], mode=cfg[\"mode\"]\n",
    "    )\n",
    "    dm = SemSegmentDataModule(dataframes=[train_df, val_df, test_df],\n",
    "                              root_dir=cfg[\"root_dir\"], expand_fires=cfg[\n",
    "                                  \"expand_fires\"],\n",
    "                              batch_size=cfg[\"batch_size\"], num_workers=cfg[\n",
    "                                  \"num_workers\"])\n",
    "\n",
    "    trainer = pl.Trainer(\n",
    "        accelerator=\"auto\",\n",
    "        devices=1 if torch.cuda.is_available() else None,\n",
    "        max_epochs=cfg[\"max_epochs\"],\n",
    "        callbacks=[\n",
    "            EarlyStopping(monitor=cfg[\"monitor\"], patience=cfg[\"patience\"],\n",
    "                          mode=cfg[\"mode\"]),\n",
    "            ModelCheckpoint(\n",
    "                monitor=cfg[\"monitor\"], mode=cfg[\"mode\"], dirpath=\"ckpts/\",\n",
    "                filename=f'semseg-fold{i+1:02d}' + '-epoch{epoch:02d}-val_loss{val_loss:.3f}',\n",
    "                auto_insert_metric_name=False),\n",
    "            LearningRateMonitor(\"epoch\")\n",
    "        ],\n",
    "    )\n",
    "    trainer.logger._default_hp_metric = None\n",
    "    trainer.fit(model, datamodule=dm)\n",
    "\n",
    "    pretrained_filename = list(pathlib.Path(\"ckpts/\").glob(\n",
    "        f\"semseg-fold{i+1:02d}*.ckpt\"))[0]\n",
    "    if pretrained_filename.is_file():\n",
    "        print(f\"Found pretrained model, loading from {pretrained_filename}\")\n",
    "        model = SemSegmentModule.load_from_checkpoint(pretrained_filename)\n",
    "    else:\n",
    "        print(\"Cannot find pretrained model!\")\n",
    "\n",
    "    train_result = trainer.test(model, dataloaders=dm.train_dataloader(),\n",
    "                                verbose=False)\n",
    "    val_result = trainer.test(model, dataloaders=dm.val_dataloader(),\n",
    "                              verbose=False)\n",
    "    test_result = trainer.test(model, dataloaders=dm.test_dataloader(),\n",
    "                               verbose=False)\n",
    "    result = {\"train\": train_result, \"val\": val_result, \"test\": test_result}\n",
    "\n",
    "    results.append(result)\n",
    "    for k, v in result.items():\n",
    "        print(f\"    {k} result: {v}\")"
   ]
  },
  {
   "cell_type": "markdown",
   "id": "desperate-hindu",
   "metadata": {},
   "source": [
    "Visualize how the predictions look like"
   ]
  },
  {
   "cell_type": "code",
   "execution_count": 9,
   "id": "alpine-tribe",
   "metadata": {},
   "outputs": [
    {
     "name": "stderr",
     "output_type": "stream",
     "text": [
      "Clipping input data to the valid range for imshow with RGB data ([0..1] for floats or [0..255] for integers).\n"
     ]
    },
    {
     "data": {
      "image/png": "[encoded data removed]",
      "text/plain": [
       "<Figure size 640x480 with 3 Axes>"
      ]
     },
     "metadata": {},
     "output_type": "display_data"
    },
    {
     "name": "stderr",
     "output_type": "stream",
     "text": [
      "Clipping input data to the valid range for imshow with RGB data ([0..1] for floats or [0..255] for integers).\n"
     ]
    },
    {
     "data": {
      "image/png": "[encoded data removed]",
      "text/plain": [
       "<Figure size 640x480 with 3 Axes>"
      ]
     },
     "metadata": {},
     "output_type": "display_data"
    },
    {
     "name": "stderr",
     "output_type": "stream",
     "text": [
      "Clipping input data to the valid range for imshow with RGB data ([0..1] for floats or [0..255] for integers).\n"
     ]
    },
    {
     "data": {
      "image/png": "[encoded data removed]",
      "text/plain": [
       "<Figure size 640x480 with 3 Axes>"
      ]
     },
     "metadata": {},
     "output_type": "display_data"
    },
    {
     "name": "stderr",
     "output_type": "stream",
     "text": [
      "Clipping input data to the valid range for imshow with RGB data ([0..1] for floats or [0..255] for integers).\n"
     ]
    },
    {
     "data": {
      "image/png": "[encoded data removed]",
      "text/plain": [
       "<Figure size 640x480 with 3 Axes>"
      ]
     },
     "metadata": {},
     "output_type": "display_data"
    }
   ],
   "source": [
    "def get_test_samples(num):\n",
    "    imgs, masks = list(zip(*[test_dataset_[i+938] for i in range(num)]))\n",
    "    return torch.stack(imgs), torch.stack(masks)\n",
    "\n",
    "def visualize_predictions(model, input_imgs, input_masks):\n",
    "    model.eval()\n",
    "    with torch.no_grad():\n",
    "        pred_imgs = model(input_imgs.float().to(model.device))\n",
    "    pred_imgs = pred_imgs.cpu()\n",
    "\n",
    "    for img, mask, pred in zip(input_imgs, input_masks, pred_imgs):\n",
    "        f, ax = plt.subplots(1, 3)\n",
    "        ax[0].imshow(torch.moveaxis(img, 0, 2)[:, :, :3])\n",
    "        ax[1].imshow(mask, vmin=0, vmax=2)\n",
    "        ax[2].imshow(torch.argmax(pred, axis=0), vmin=0, vmax=2)\n",
    "        plt.show()\n",
    "\n",
    "\n",
    "input_imgs, input_masks = get_test_samples(4)\n",
    "visualize_predictions(model, input_imgs, input_masks)"
   ]
  },
  {
   "cell_type": "markdown",
   "id": "italian-conjunction",
   "metadata": {},
   "source": [
    "Collect and aggregate results for train, val and test sets"
   ]
  },
  {
   "cell_type": "code",
   "execution_count": 10,
   "id": "cooperative-rehabilitation",
   "metadata": {},
   "outputs": [
    {
     "data": {
      "text/html": [
       "<div>\n",
       "<style scoped>\n",
       "    .dataframe tbody tr th:only-of-type {\n",
       "        vertical-align: middle;\n",
       "    }\n",
       "\n",
       "    .dataframe tbody tr th {\n",
       "        vertical-align: top;\n",
       "    }\n",
       "\n",
       "    .dataframe thead th {\n",
       "        text-align: right;\n",
       "    }\n",
       "</style>\n",
       "<table border=\"1\" class=\"dataframe\">\n",
       "  <thead>\n",
       "    <tr style=\"text-align: right;\">\n",
       "      <th></th>\n",
       "      <th>loss</th>\n",
       "      <th>precision_0</th>\n",
       "      <th>precision_1</th>\n",
       "      <th>precision_2</th>\n",
       "      <th>recall_0</th>\n",
       "      <th>recall_1</th>\n",
       "      <th>recall_2</th>\n",
       "      <th>hybrid1</th>\n",
       "      <th>hybrid2</th>\n",
       "      <th>hybrid5</th>\n",
       "      <th>nh1</th>\n",
       "      <th>nh2</th>\n",
       "      <th>nh5</th>\n",
       "      <th>nh10</th>\n",
       "    </tr>\n",
       "  </thead>\n",
       "  <tbody>\n",
       "    <tr>\n",
       "      <th>0</th>\n",
       "      <td>0.255184</td>\n",
       "      <td>0.999993</td>\n",
       "      <td>0.999198</td>\n",
       "      <td>0.019018</td>\n",
       "      <td>0.999592</td>\n",
       "      <td>0.729863</td>\n",
       "      <td>0.922662</td>\n",
       "      <td>0.815016</td>\n",
       "      <td>0.847994</td>\n",
       "      <td>0.883754</td>\n",
       "      <td>1.652525</td>\n",
       "      <td>2.575187</td>\n",
       "      <td>5.343173</td>\n",
       "      <td>9.956482</td>\n",
       "    </tr>\n",
       "    <tr>\n",
       "      <th>1</th>\n",
       "      <td>0.243297</td>\n",
       "      <td>0.999913</td>\n",
       "      <td>0.999329</td>\n",
       "      <td>0.023303</td>\n",
       "      <td>0.999968</td>\n",
       "      <td>0.745220</td>\n",
       "      <td>0.925137</td>\n",
       "      <td>0.825489</td>\n",
       "      <td>0.856231</td>\n",
       "      <td>0.889352</td>\n",
       "      <td>1.670357</td>\n",
       "      <td>2.595495</td>\n",
       "      <td>5.370907</td>\n",
       "      <td>9.996593</td>\n",
       "    </tr>\n",
       "    <tr>\n",
       "      <th>2</th>\n",
       "      <td>0.255993</td>\n",
       "      <td>0.999892</td>\n",
       "      <td>0.999333</td>\n",
       "      <td>0.020498</td>\n",
       "      <td>0.999898</td>\n",
       "      <td>0.738153</td>\n",
       "      <td>0.922633</td>\n",
       "      <td>0.820147</td>\n",
       "      <td>0.851682</td>\n",
       "      <td>0.885739</td>\n",
       "      <td>1.660786</td>\n",
       "      <td>2.583420</td>\n",
       "      <td>5.351320</td>\n",
       "      <td>9.964487</td>\n",
       "    </tr>\n",
       "    <tr>\n",
       "      <th>mean</th>\n",
       "      <td>0.251491</td>\n",
       "      <td>0.999933</td>\n",
       "      <td>0.999287</td>\n",
       "      <td>0.020940</td>\n",
       "      <td>0.999819</td>\n",
       "      <td>0.737746</td>\n",
       "      <td>0.923478</td>\n",
       "      <td>0.820217</td>\n",
       "      <td>0.851969</td>\n",
       "      <td>0.886281</td>\n",
       "      <td>1.661223</td>\n",
       "      <td>2.584701</td>\n",
       "      <td>5.355133</td>\n",
       "      <td>9.972521</td>\n",
       "    </tr>\n",
       "    <tr>\n",
       "      <th>std</th>\n",
       "      <td>0.007108</td>\n",
       "      <td>0.000053</td>\n",
       "      <td>0.000077</td>\n",
       "      <td>0.002176</td>\n",
       "      <td>0.000200</td>\n",
       "      <td>0.007686</td>\n",
       "      <td>0.001437</td>\n",
       "      <td>0.005237</td>\n",
       "      <td>0.004126</td>\n",
       "      <td>0.002838</td>\n",
       "      <td>0.008924</td>\n",
       "      <td>0.010214</td>\n",
       "      <td>0.014255</td>\n",
       "      <td>0.021228</td>\n",
       "    </tr>\n",
       "  </tbody>\n",
       "</table>\n",
       "</div>"
      ],
      "text/plain": [
       "          loss  precision_0  precision_1  precision_2  recall_0  recall_1  \\\n",
       "0     0.255184     0.999993     0.999198     0.019018  0.999592  0.729863   \n",
       "1     0.243297     0.999913     0.999329     0.023303  0.999968  0.745220   \n",
       "2     0.255993     0.999892     0.999333     0.020498  0.999898  0.738153   \n",
       "mean  0.251491     0.999933     0.999287     0.020940  0.999819  0.737746   \n",
       "std   0.007108     0.000053     0.000077     0.002176  0.000200  0.007686   \n",
       "\n",
       "      recall_2   hybrid1   hybrid2   hybrid5       nh1       nh2       nh5  \\\n",
       "0     0.922662  0.815016  0.847994  0.883754  1.652525  2.575187  5.343173   \n",
       "1     0.925137  0.825489  0.856231  0.889352  1.670357  2.595495  5.370907   \n",
       "2     0.922633  0.820147  0.851682  0.885739  1.660786  2.583420  5.351320   \n",
       "mean  0.923478  0.820217  0.851969  0.886281  1.661223  2.584701  5.355133   \n",
       "std   0.001437  0.005237  0.004126  0.002838  0.008924  0.010214  0.014255   \n",
       "\n",
       "          nh10  \n",
       "0     9.956482  \n",
       "1     9.996593  \n",
       "2     9.964487  \n",
       "mean  9.972521  \n",
       "std   0.021228  "
      ]
     },
     "execution_count": 10,
     "metadata": {},
     "output_type": "execute_result"
    }
   ],
   "source": [
    "def show_evaluation_metrics(results, dataset=\"train\"):\n",
    "    res = pd.json_normalize(results, dataset)\n",
    "    res = res.rename(lambda x: x[len(\"test_\"):], axis='columns')\n",
    "    res = pd.concat([res, res.apply(['mean', 'std'])])\n",
    "    return res\n",
    "\n",
    "show_evaluation_metrics(results, dataset=\"train\")"
   ]
  },
  {
   "cell_type": "code",
   "execution_count": 11,
   "id": "intensive-eclipse",
   "metadata": {},
   "outputs": [
    {
     "data": {
      "text/html": [
       "<div>\n",
       "<style scoped>\n",
       "    .dataframe tbody tr th:only-of-type {\n",
       "        vertical-align: middle;\n",
       "    }\n",
       "\n",
       "    .dataframe tbody tr th {\n",
       "        vertical-align: top;\n",
       "    }\n",
       "\n",
       "    .dataframe thead th {\n",
       "        text-align: right;\n",
       "    }\n",
       "</style>\n",
       "<table border=\"1\" class=\"dataframe\">\n",
       "  <thead>\n",
       "    <tr style=\"text-align: right;\">\n",
       "      <th></th>\n",
       "      <th>loss</th>\n",
       "      <th>precision_0</th>\n",
       "      <th>precision_1</th>\n",
       "      <th>precision_2</th>\n",
       "      <th>recall_0</th>\n",
       "      <th>recall_1</th>\n",
       "      <th>recall_2</th>\n",
       "      <th>hybrid1</th>\n",
       "      <th>hybrid2</th>\n",
       "      <th>hybrid5</th>\n",
       "      <th>nh1</th>\n",
       "      <th>nh2</th>\n",
       "      <th>nh5</th>\n",
       "      <th>nh10</th>\n",
       "    </tr>\n",
       "  </thead>\n",
       "  <tbody>\n",
       "    <tr>\n",
       "      <th>0</th>\n",
       "      <td>0.289365</td>\n",
       "      <td>0.999991</td>\n",
       "      <td>0.998735</td>\n",
       "      <td>0.022572</td>\n",
       "      <td>0.999607</td>\n",
       "      <td>0.740097</td>\n",
       "      <td>0.881691</td>\n",
       "      <td>0.804713</td>\n",
       "      <td>0.828834</td>\n",
       "      <td>0.854446</td>\n",
       "      <td>1.621788</td>\n",
       "      <td>2.503479</td>\n",
       "      <td>5.148553</td>\n",
       "      <td>9.557008</td>\n",
       "    </tr>\n",
       "    <tr>\n",
       "      <th>1</th>\n",
       "      <td>0.271886</td>\n",
       "      <td>0.999832</td>\n",
       "      <td>0.999073</td>\n",
       "      <td>0.017437</td>\n",
       "      <td>0.999950</td>\n",
       "      <td>0.753616</td>\n",
       "      <td>0.864697</td>\n",
       "      <td>0.805344</td>\n",
       "      <td>0.824202</td>\n",
       "      <td>0.843964</td>\n",
       "      <td>1.618313</td>\n",
       "      <td>2.483010</td>\n",
       "      <td>5.077101</td>\n",
       "      <td>9.400587</td>\n",
       "    </tr>\n",
       "    <tr>\n",
       "      <th>2</th>\n",
       "      <td>0.281346</td>\n",
       "      <td>0.999948</td>\n",
       "      <td>0.998861</td>\n",
       "      <td>0.020136</td>\n",
       "      <td>0.999926</td>\n",
       "      <td>0.731803</td>\n",
       "      <td>0.872021</td>\n",
       "      <td>0.795783</td>\n",
       "      <td>0.819670</td>\n",
       "      <td>0.845036</td>\n",
       "      <td>1.603825</td>\n",
       "      <td>2.475846</td>\n",
       "      <td>5.091910</td>\n",
       "      <td>9.452017</td>\n",
       "    </tr>\n",
       "    <tr>\n",
       "      <th>mean</th>\n",
       "      <td>0.280866</td>\n",
       "      <td>0.999924</td>\n",
       "      <td>0.998890</td>\n",
       "      <td>0.020048</td>\n",
       "      <td>0.999828</td>\n",
       "      <td>0.741839</td>\n",
       "      <td>0.872803</td>\n",
       "      <td>0.801947</td>\n",
       "      <td>0.824235</td>\n",
       "      <td>0.847815</td>\n",
       "      <td>1.614642</td>\n",
       "      <td>2.487445</td>\n",
       "      <td>5.105855</td>\n",
       "      <td>9.469871</td>\n",
       "    </tr>\n",
       "    <tr>\n",
       "      <th>std</th>\n",
       "      <td>0.008750</td>\n",
       "      <td>0.000082</td>\n",
       "      <td>0.000171</td>\n",
       "      <td>0.002569</td>\n",
       "      <td>0.000191</td>\n",
       "      <td>0.011010</td>\n",
       "      <td>0.008524</td>\n",
       "      <td>0.005347</td>\n",
       "      <td>0.004582</td>\n",
       "      <td>0.005767</td>\n",
       "      <td>0.009528</td>\n",
       "      <td>0.014340</td>\n",
       "      <td>0.037711</td>\n",
       "      <td>0.079724</td>\n",
       "    </tr>\n",
       "  </tbody>\n",
       "</table>\n",
       "</div>"
      ],
      "text/plain": [
       "          loss  precision_0  precision_1  precision_2  recall_0  recall_1  \\\n",
       "0     0.289365     0.999991     0.998735     0.022572  0.999607  0.740097   \n",
       "1     0.271886     0.999832     0.999073     0.017437  0.999950  0.753616   \n",
       "2     0.281346     0.999948     0.998861     0.020136  0.999926  0.731803   \n",
       "mean  0.280866     0.999924     0.998890     0.020048  0.999828  0.741839   \n",
       "std   0.008750     0.000082     0.000171     0.002569  0.000191  0.011010   \n",
       "\n",
       "      recall_2   hybrid1   hybrid2   hybrid5       nh1       nh2       nh5  \\\n",
       "0     0.881691  0.804713  0.828834  0.854446  1.621788  2.503479  5.148553   \n",
       "1     0.864697  0.805344  0.824202  0.843964  1.618313  2.483010  5.077101   \n",
       "2     0.872021  0.795783  0.819670  0.845036  1.603825  2.475846  5.091910   \n",
       "mean  0.872803  0.801947  0.824235  0.847815  1.614642  2.487445  5.105855   \n",
       "std   0.008524  0.005347  0.004582  0.005767  0.009528  0.014340  0.037711   \n",
       "\n",
       "          nh10  \n",
       "0     9.557008  \n",
       "1     9.400587  \n",
       "2     9.452017  \n",
       "mean  9.469871  \n",
       "std   0.079724  "
      ]
     },
     "execution_count": 11,
     "metadata": {},
     "output_type": "execute_result"
    }
   ],
   "source": [
    "show_evaluation_metrics(results, dataset=\"val\")"
   ]
  },
  {
   "cell_type": "code",
   "execution_count": 12,
   "id": "appreciated-street",
   "metadata": {},
   "outputs": [
    {
     "data": {
      "text/html": [
       "<div>\n",
       "<style scoped>\n",
       "    .dataframe tbody tr th:only-of-type {\n",
       "        vertical-align: middle;\n",
       "    }\n",
       "\n",
       "    .dataframe tbody tr th {\n",
       "        vertical-align: top;\n",
       "    }\n",
       "\n",
       "    .dataframe thead th {\n",
       "        text-align: right;\n",
       "    }\n",
       "</style>\n",
       "<table border=\"1\" class=\"dataframe\">\n",
       "  <thead>\n",
       "    <tr style=\"text-align: right;\">\n",
       "      <th></th>\n",
       "      <th>loss</th>\n",
       "      <th>precision_0</th>\n",
       "      <th>precision_1</th>\n",
       "      <th>precision_2</th>\n",
       "      <th>recall_0</th>\n",
       "      <th>recall_1</th>\n",
       "      <th>recall_2</th>\n",
       "      <th>hybrid1</th>\n",
       "      <th>hybrid2</th>\n",
       "      <th>hybrid5</th>\n",
       "      <th>nh1</th>\n",
       "      <th>nh2</th>\n",
       "      <th>nh5</th>\n",
       "      <th>nh10</th>\n",
       "    </tr>\n",
       "  </thead>\n",
       "  <tbody>\n",
       "    <tr>\n",
       "      <th>0</th>\n",
       "      <td>0.127631</td>\n",
       "      <td>0.999996</td>\n",
       "      <td>0.999864</td>\n",
       "      <td>0.000031</td>\n",
       "      <td>0.999712</td>\n",
       "      <td>0.847602</td>\n",
       "      <td>0.755132</td>\n",
       "      <td>0.798699</td>\n",
       "      <td>0.783629</td>\n",
       "      <td>0.769117</td>\n",
       "      <td>1.602734</td>\n",
       "      <td>2.357866</td>\n",
       "      <td>4.623262</td>\n",
       "      <td>8.398921</td>\n",
       "    </tr>\n",
       "    <tr>\n",
       "      <th>1</th>\n",
       "      <td>0.113742</td>\n",
       "      <td>0.999938</td>\n",
       "      <td>0.999985</td>\n",
       "      <td>0.000038</td>\n",
       "      <td>0.999971</td>\n",
       "      <td>0.863304</td>\n",
       "      <td>0.826979</td>\n",
       "      <td>0.844751</td>\n",
       "      <td>0.838743</td>\n",
       "      <td>0.832820</td>\n",
       "      <td>1.690283</td>\n",
       "      <td>2.517263</td>\n",
       "      <td>4.998201</td>\n",
       "      <td>9.133099</td>\n",
       "    </tr>\n",
       "    <tr>\n",
       "      <th>2</th>\n",
       "      <td>0.121419</td>\n",
       "      <td>0.999931</td>\n",
       "      <td>0.999951</td>\n",
       "      <td>0.000036</td>\n",
       "      <td>0.999906</td>\n",
       "      <td>0.860595</td>\n",
       "      <td>0.782991</td>\n",
       "      <td>0.819961</td>\n",
       "      <td>0.807256</td>\n",
       "      <td>0.794938</td>\n",
       "      <td>1.643586</td>\n",
       "      <td>2.426577</td>\n",
       "      <td>4.775551</td>\n",
       "      <td>8.690507</td>\n",
       "    </tr>\n",
       "    <tr>\n",
       "      <th>mean</th>\n",
       "      <td>0.120931</td>\n",
       "      <td>0.999955</td>\n",
       "      <td>0.999933</td>\n",
       "      <td>0.000035</td>\n",
       "      <td>0.999863</td>\n",
       "      <td>0.857167</td>\n",
       "      <td>0.788368</td>\n",
       "      <td>0.821137</td>\n",
       "      <td>0.809876</td>\n",
       "      <td>0.798958</td>\n",
       "      <td>1.645534</td>\n",
       "      <td>2.433902</td>\n",
       "      <td>4.799005</td>\n",
       "      <td>8.740842</td>\n",
       "    </tr>\n",
       "    <tr>\n",
       "      <th>std</th>\n",
       "      <td>0.006957</td>\n",
       "      <td>0.000036</td>\n",
       "      <td>0.000062</td>\n",
       "      <td>0.000004</td>\n",
       "      <td>0.000135</td>\n",
       "      <td>0.008394</td>\n",
       "      <td>0.036224</td>\n",
       "      <td>0.023049</td>\n",
       "      <td>0.027650</td>\n",
       "      <td>0.032041</td>\n",
       "      <td>0.043807</td>\n",
       "      <td>0.079951</td>\n",
       "      <td>0.188567</td>\n",
       "      <td>0.369668</td>\n",
       "    </tr>\n",
       "  </tbody>\n",
       "</table>\n",
       "</div>"
      ],
      "text/plain": [
       "          loss  precision_0  precision_1  precision_2  recall_0  recall_1  \\\n",
       "0     0.127631     0.999996     0.999864     0.000031  0.999712  0.847602   \n",
       "1     0.113742     0.999938     0.999985     0.000038  0.999971  0.863304   \n",
       "2     0.121419     0.999931     0.999951     0.000036  0.999906  0.860595   \n",
       "mean  0.120931     0.999955     0.999933     0.000035  0.999863  0.857167   \n",
       "std   0.006957     0.000036     0.000062     0.000004  0.000135  0.008394   \n",
       "\n",
       "      recall_2   hybrid1   hybrid2   hybrid5       nh1       nh2       nh5  \\\n",
       "0     0.755132  0.798699  0.783629  0.769117  1.602734  2.357866  4.623262   \n",
       "1     0.826979  0.844751  0.838743  0.832820  1.690283  2.517263  4.998201   \n",
       "2     0.782991  0.819961  0.807256  0.794938  1.643586  2.426577  4.775551   \n",
       "mean  0.788368  0.821137  0.809876  0.798958  1.645534  2.433902  4.799005   \n",
       "std   0.036224  0.023049  0.027650  0.032041  0.043807  0.079951  0.188567   \n",
       "\n",
       "          nh10  \n",
       "0     8.398921  \n",
       "1     9.133099  \n",
       "2     8.690507  \n",
       "mean  8.740842  \n",
       "std   0.369668  "
      ]
     },
     "execution_count": 12,
     "metadata": {},
     "output_type": "execute_result"
    }
   ],
   "source": [
    "show_evaluation_metrics(results, dataset=\"test\")"
   ]
  },
  {
   "cell_type": "code",
   "execution_count": null,
   "id": "beginning-programming",
   "metadata": {},
   "outputs": [],
   "source": []
  }
 ],
 "metadata": {
  "kernelspec": {
   "display_name": "Python 3 (ipykernel)",
   "language": "python",
   "name": "python3"
  },
  "language_info": {
   "codemirror_mode": {
    "name": "ipython",
    "version": 3
   },
   "file_extension": ".py",
   "mimetype": "text/x-python",
   "name": "python",
   "nbconvert_exporter": "python",
   "pygments_lexer": "ipython3",
   "version": "3.10.12"
  }
 },
 "nbformat": 4,
 "nbformat_minor": 5
}
