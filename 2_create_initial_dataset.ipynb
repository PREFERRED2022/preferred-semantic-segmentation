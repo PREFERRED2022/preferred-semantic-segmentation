{
 "cells": [
  {
   "cell_type": "markdown",
   "id": "rational-casting",
   "metadata": {},
   "source": [
    "## Create initial dataset\n",
    "\n",
    "This notebook splits the tiles data into train and test set based on a year configuration. It also filters the tiles w.r.t the *non-nan* and *fire* pixel percentage they contain. Then, there is an option to sample tiles for train set, maintaining a specific class ratio (by keeping all *fire* tiles and an additional number of *no-fire* tiles). Finally, it saves the resulting train and test dataframes to disk to be used for semantic segmentation experiments.\n",
    "\n",
    "***"
   ]
  },
  {
   "cell_type": "markdown",
   "id": "canadian-soccer",
   "metadata": {},
   "source": [
    "Import packages"
   ]
  },
  {
   "cell_type": "code",
   "execution_count": 1,
   "id": "false-partner",
   "metadata": {},
   "outputs": [],
   "source": [
    "import pathlib\n",
    "\n",
    "import numpy as np\n",
    "import pandas as pd"
   ]
  },
  {
   "cell_type": "markdown",
   "id": "tutorial-graduation",
   "metadata": {},
   "source": [
    "Define a dataset configuration"
   ]
  },
  {
   "cell_type": "code",
   "execution_count": 2,
   "id": "alpine-disclaimer",
   "metadata": {},
   "outputs": [],
   "source": [
    "cfg = {\n",
    "    \"ds_version\": \"dataset_v1\",  # Name of dataset version to keep track of its configuration\n",
    "    \"ds_csv\": \"final_dataset_alltiles_ts32.csv\",  # Name of the dataset csv being processed\n",
    "    \"test_years\": [2019],  # List of years to be used for testing\n",
    "    \"train_months\": [],  # Months to keep for train tiles, [] to keep all\n",
    "    \"test_months\": [\"06\", \"07\", \"08\", \"09\"],  # Months to keeo for test tiles, [] to keep all\n",
    "    # The following keeps a tile iff it contains at least 1px of land, fire pct is irrelevant.\n",
    "    \"train_non_nan_thr\": 0.0,  # Minimum required non-nan pixel percentage for a train tile to keep\n",
    "    \"train_fire_thr\": -1.0,  # Minimum required fire pixel percentage for a train tile to keep\n",
    "    \"test_non_nan_thr\": 0.0,  # Minimum required non-nan pixel percentage for a test tile to keep\n",
    "    \"test_fire_thr\": -1.0,  # Minimum required fire pixel percentage for a test tile to keep\n",
    "    \"non_fire_ratio\": 2,  # The ratio of non-fire tiles over the fire ones to sample for the train set\n",
    "    \"random_state\": 42,\n",
    "    \"tile_size\": 32,\n",
    "}"
   ]
  },
  {
   "cell_type": "markdown",
   "id": "median-drama",
   "metadata": {},
   "source": [
    "Load dataset and split it to train and test based on a year"
   ]
  },
  {
   "cell_type": "code",
   "execution_count": 3,
   "id": "transparent-thumb",
   "metadata": {},
   "outputs": [
    {
     "data": {
      "text/plain": [
       "((2505750, 6), (245435, 6))"
      ]
     },
     "execution_count": 3,
     "metadata": {},
     "output_type": "execute_result"
    }
   ],
   "source": [
    "dataset = pd.read_csv(cfg[\"ds_csv\"])\n",
    "\n",
    "train_df_ = dataset[dataset[\"year\"] < np.min(cfg[\"test_years\"])].reset_index(\n",
    "    drop=True)\n",
    "test_df = dataset[dataset[\"year\"].isin(cfg[\"test_years\"])].reset_index(\n",
    "    drop=True)\n",
    "\n",
    "train_df_.shape, test_df.shape"
   ]
  },
  {
   "cell_type": "markdown",
   "id": "still-module",
   "metadata": {},
   "source": [
    "Filter tiles based on `months` args"
   ]
  },
  {
   "cell_type": "code",
   "execution_count": 4,
   "id": "grateful-aurora",
   "metadata": {},
   "outputs": [
    {
     "data": {
      "text/plain": [
       "((2505750, 7), (155485, 7))"
      ]
     },
     "execution_count": 4,
     "metadata": {},
     "output_type": "execute_result"
    }
   ],
   "source": [
    "train_df_[\"month\"] = train_df_[\"date\"].apply(lambda x: str(x)[4:6])\n",
    "if cfg[\"train_months\"]:\n",
    "    train_df_ = train_df_[train_df_[\"month\"].isin(cfg[\"train_months\"])\n",
    "                         ].reset_index(drop=True)\n",
    "\n",
    "test_df[\"month\"] = test_df[\"date\"].apply(lambda x: str(x)[4:6])\n",
    "if cfg[\"test_months\"]:\n",
    "    test_df = test_df[test_df[\"month\"].isin(cfg[\"test_months\"])].reset_index(\n",
    "        drop=True)\n",
    "\n",
    "train_df_.shape, test_df.shape"
   ]
  },
  {
   "cell_type": "markdown",
   "id": "tutorial-vertical",
   "metadata": {},
   "source": [
    "Filter tiles based on `non_nan_thr` and `fire_thr` args"
   ]
  },
  {
   "cell_type": "code",
   "execution_count": 5,
   "id": "graphic-membership",
   "metadata": {},
   "outputs": [
    {
     "data": {
      "text/plain": [
       "((2505750, 7), (155485, 7))"
      ]
     },
     "execution_count": 5,
     "metadata": {},
     "output_type": "execute_result"
    }
   ],
   "source": [
    "train_df_ = train_df_[(train_df_[\"non_nan_pct\"] > cfg[\"train_non_nan_thr\"]) & (\n",
    "    train_df_[\"fire_pct\"] > cfg[\"train_fire_thr\"])].reset_index(drop=True)\n",
    "test_df = test_df[(test_df[\"non_nan_pct\"] > cfg[\"test_non_nan_thr\"]) & (test_df[\n",
    "    \"fire_pct\"] > cfg[\"test_fire_thr\"])].reset_index(drop=True)\n",
    "\n",
    "train_df_.shape, test_df.shape"
   ]
  },
  {
   "cell_type": "markdown",
   "id": "convertible-wyoming",
   "metadata": {},
   "source": [
    "Sample train dataset's tile instances w.r.t fire and non-fire ratio. Keep all fire tiles (N) plus (`non_fire_ratio`\\*N) of random additional non-fire tiles"
   ]
  },
  {
   "cell_type": "code",
   "execution_count": 6,
   "id": "searching-candle",
   "metadata": {},
   "outputs": [
    {
     "data": {
      "text/plain": [
       "(3342, 7)"
      ]
     },
     "execution_count": 6,
     "metadata": {},
     "output_type": "execute_result"
    }
   ],
   "source": [
    "train_fire_df = train_df_[train_df_[\"fire_pct\"] > 0.0].reset_index(drop=True)\n",
    "train_non_fire_df = train_df_[train_df_[\"fire_pct\"] == 0.0].reset_index(\n",
    "    drop=True)\n",
    "\n",
    "train_df = pd.concat([train_fire_df, train_non_fire_df.sample(\n",
    "    n=cfg[\"non_fire_ratio\"]*len(train_fire_df), replace=False,\n",
    "    random_state=cfg[\"random_state\"]).reset_index(drop=True)]).reset_index(\n",
    "    drop=True)\n",
    "\n",
    "train_df = train_df.sample(frac=1, random_state=cfg[\"random_state\"]\n",
    "                          ).reset_index(drop=True)\n",
    "\n",
    "train_df.shape"
   ]
  },
  {
   "cell_type": "markdown",
   "id": "original-payday",
   "metadata": {},
   "source": [
    "Save train and test dataframes to csv"
   ]
  },
  {
   "cell_type": "code",
   "execution_count": 7,
   "id": "civil-remove",
   "metadata": {},
   "outputs": [
    {
     "name": "stdout",
     "output_type": "stream",
     "text": [
      "Dataset directory dataset_v1 created.\n"
     ]
    }
   ],
   "source": [
    "output_dir = pathlib.Path(cfg[\"ds_version\"])\n",
    "if not output_dir.is_dir():\n",
    "    output_dir.mkdir()\n",
    "    pd.DataFrame.from_dict(cfg, orient='index').to_csv(pathlib.Path(\n",
    "        output_dir, \"config.csv\"))\n",
    "\n",
    "    train_df.to_csv(pathlib.Path(output_dir, \"train_tiles.csv\"), index=False)\n",
    "    test_df.to_csv(pathlib.Path(output_dir, \"test_tiles.csv\"), index=False)\n",
    "\n",
    "    print(f\"Dataset directory {output_dir} created.\")\n",
    "else:\n",
    "    print(f\"Dataset directory {output_dir} already exists.\")"
   ]
  },
  {
   "cell_type": "code",
   "execution_count": null,
   "id": "cooperative-greensboro",
   "metadata": {},
   "outputs": [],
   "source": []
  }
 ],
 "metadata": {
  "kernelspec": {
   "display_name": "Python 3 (ipykernel)",
   "language": "python",
   "name": "python3"
  },
  "language_info": {
   "codemirror_mode": {
    "name": "ipython",
    "version": 3
   },
   "file_extension": ".py",
   "mimetype": "text/x-python",
   "name": "python",
   "nbconvert_exporter": "python",
   "pygments_lexer": "ipython3",
   "version": "3.10.12"
  }
 },
 "nbformat": 4,
 "nbformat_minor": 5
}
